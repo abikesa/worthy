{
 "cells": [
  {
   "cell_type": "markdown",
   "metadata": {},
   "source": [
    "# Stata\n",
    "\n",
    "![](https://cdn.icon-icons.com/icons2/2107/PNG/512/file_type_stata_icon_130148.png)"
   ]
  },
  {
   "cell_type": "code",
   "execution_count": 1,
   "metadata": {
    "tags": [
     "hide-input",
     "hide-output"
    ]
   },
   "outputs": [
    {
     "name": "stdout",
     "output_type": "stream",
     "text": [
      "\n",
      "\n",
      "\n",
      "\n",
      "Number of observations (_N) was 0, now 100.\n"
     ]
    },
    {
     "name": "stdout",
     "output_type": "stream",
     "text": [
      "\n",
      "\n",
      "\n",
      "(j = 0 1 2 3 4 5 6 7 8 9)\n"
     ]
    },
    {
     "name": "stdout",
     "output_type": "stream",
     "text": [
      "\n",
      "Data                               Wide   ->   Long\n"
     ]
    },
    {
     "name": "stdout",
     "output_type": "stream",
     "text": [
      "-----------------------------------------------------------------------------\n"
     ]
    },
    {
     "name": "stdout",
     "output_type": "stream",
     "text": [
      "Number of observations              100   ->   1,000       \n"
     ]
    },
    {
     "name": "stdout",
     "output_type": "stream",
     "text": [
      "Number of variables                  11   ->   3           \n"
     ]
    },
    {
     "name": "stdout",
     "output_type": "stream",
     "text": [
      "j variable (10 values)                    ->   variable\n"
     ]
    },
    {
     "name": "stdout",
     "output_type": "stream",
     "text": [
      "xij variables:\n"
     ]
    },
    {
     "name": "stdout",
     "output_type": "stream",
     "text": [
      "            series0 series1 ... series9   ->   series\n"
     ]
    },
    {
     "name": "stdout",
     "output_type": "stream",
     "text": [
      "-----------------------------------------------------------------------------\n"
     ]
    },
    {
     "name": "stdout",
     "output_type": "stream",
     "text": [
      "\n",
      "\n",
      "\n",
      "\n",
      "\n",
      "file /Users/hades/.stata_kernel_cache/graph0.svg saved as SVG format\n"
     ]
    },
    {
     "name": "stdout",
     "output_type": "stream",
     "text": [
      "file /Users/hades/.stata_kernel_cache/graph0.pdf saved as PDF format\n"
     ]
    },
    {
     "name": "stdout",
     "output_type": "stream",
     "text": [
      "\n",
      "file stata.png written in PNG format\n"
     ]
    }
   ],
   "source": [
    "// Set the seed for reproducibility\n",
    "set seed 19680801\n",
    "\n",
    "// Number of series\n",
    "local N 10\n",
    "\n",
    "// Generate data\n",
    "clear\n",
    "set obs 100\n",
    "\n",
    "forvalues i = 0/`=`N'-1' {\n",
    "    gen series`i' = log(_n) + rnormal() + `i'\n",
    "}\n",
    "\n",
    "// Reshape the data for plotting\n",
    "gen index = _n\n",
    "reshape long series, i(index) j(variable)\n",
    "\n",
    "// Set up the custom color scheme\n",
    "local colors \"red blue green orange purple brown pink yellow cyan magenta\"\n",
    "\n",
    "// Create a macro to hold the plot commands\n",
    "local plotcmds \"\"\n",
    "\n",
    "forvalues i = 0/`=`N'-1' {\n",
    "    local color = word(\"`colors'\", `=`i'+1')\n",
    "    local plotcmds `plotcmds' (line series index if variable == `i', lcolor(\"`color'\"))\n",
    "}\n",
    "\n",
    "#delimit ;\n",
    "twoway `plotcmds',\n",
    "    legend(order(1 \"Series 1\" 2 \"Series 2\" 3 \"Series 3\" 4 \"Series 4\" 5 \"Series 5\" \n",
    "                 6 \"Series 6\" 7 \"Series 7\" 8 \"Series 8\" 9 \"Series 9\" 10 \"Series 10\"))\n",
    "    title(\"Logarithmic Data with Random Noise\")\n",
    "    xtitle(\"Index\")\n",
    "    ytitle(\"Value\");\n",
    "\n",
    "graph export \"stata.png\", width(1000) replace;\n",
    "#delimit cr\n"
   ]
  },
  {
   "cell_type": "markdown",
   "metadata": {},
   "source": [
    "There is a lot more that you can do with outputs (such as including interactive outputs)\n",
    "with your book. For more information about this, see [the Jupyter Book documentation](https://jupyterbook.org)"
   ]
  },
  {
   "cell_type": "markdown",
   "metadata": {},
   "source": [
    "![](stata.png)"
   ]
  }
 ],
 "metadata": {
  "kernelspec": {
   "display_name": "Stata",
   "language": "stata",
   "name": "stata"
  },
  "language_info": {
   "codemirror_mode": "stata",
   "file_extension": ".do",
   "mimetype": "text/x-stata",
   "name": "stata",
   "version": "15.1"
  },
  "widgets": {
   "application/vnd.jupyter.widget-state+json": {
    "state": {},
    "version_major": 2,
    "version_minor": 0
   }
  }
 },
 "nbformat": 4,
 "nbformat_minor": 4
}