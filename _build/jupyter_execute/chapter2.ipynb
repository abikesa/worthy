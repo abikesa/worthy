{
 "cells": [
  {
   "cell_type": "markdown",
   "metadata": {},
   "source": [
    "# R\n",
    "\n",
    "![](https://www.r-project.org/logo/Rlogo.png)\n",
    "\n",
    "GPT-4o assisted translation of Python code from previous chapter"
   ]
  },
  {
   "cell_type": "code",
   "execution_count": 1,
   "metadata": {
    "tags": [
     "hide-input"
    ],
    "vscode": {
     "languageId": "r"
    }
   },
   "outputs": [
    {
     "ename": "ERROR",
     "evalue": "Error in setwd(\"~/documents/github/iam/\"): cannot change working directory\n",
     "output_type": "error",
     "traceback": [
      "Error in setwd(\"~/documents/github/iam/\"): cannot change working directory\nTraceback:\n",
      "1. setwd(\"~/documents/github/iam/\")"
     ]
    }
   ],
   "source": [
    "# Set working directory (adjust to your specific path)\n",
    "setwd(\"~/documents/github/iam/\")\n",
    "\n",
    "# Install necessary packages if not already installed\n",
    "suppressWarnings({\n",
    "  if (!requireNamespace(\"ggplot2\", quietly = TRUE)) install.packages(\"ggplot2\")\n",
    "  if (!requireNamespace(\"RColorBrewer\", quietly = TRUE)) install.packages(\"RColorBrewer\")\n",
    "  if (!requireNamespace(\"reshape2\", quietly = TRUE)) install.packages(\"reshape2\")\n",
    "})\n",
    "\n",
    "# Load necessary libraries\n",
    "suppressWarnings({\n",
    "  library(ggplot2)\n",
    "  library(RColorBrewer)\n",
    "  library(reshape2)\n",
    "})\n",
    "\n",
    "# Set seed for reproducibility\n",
    "set.seed(19680801)\n",
    "\n",
    "# Generate data\n",
    "N <- 10\n",
    "data <- sapply(0:(N-1), function(ii) log10(seq(1, 100, length.out = 100)) + rnorm(100) + ii)\n",
    "\n",
    "# Convert data to a data frame for ggplot2\n",
    "df <- as.data.frame(data)\n",
    "df$index <- 1:100\n",
    "df_long <- suppressWarnings(melt(df, id.vars = \"index\"))\n",
    "\n",
    "# Create a custom color palette\n",
    "colors <- colorRampPalette(rev(brewer.pal(11, \"Spectral\")))(N)\n",
    "\n",
    "# Plot the data\n",
    "p <- suppressWarnings(ggplot(df_long, aes(x = index, y = value, color = factor(variable))) +\n",
    "  geom_line(size = 0.5) +\n",
    "  scale_color_manual(values = colors, name = \"Series\",\n",
    "                     labels = paste0(\"Series \", 1:N)) +\n",
    "  theme_minimal() +\n",
    "  theme(legend.position = \"top\") +\n",
    "  labs(title = \"Logarithmic Data with Random Noise\",\n",
    "       x = \"Index\",\n",
    "       y = \"Value\"))\n",
    "\n",
    "# Display the plot\n",
    "suppressWarnings(print(p))\n",
    "\n",
    "# Save the plot with a wider aspect ratio\n",
    "suppressWarnings(ggsave(\"r.png\", plot = p, width = 20, height = 10))\n"
   ]
  },
  {
   "cell_type": "markdown",
   "metadata": {},
   "source": [
    "There is a lot more that you can do with outputs (such as including interactive outputs)\n",
    "with your book. For more information about this, see [the Jupyter Book documentation](https://jupyterbook.org)"
   ]
  }
 ],
 "metadata": {
  "kernelspec": {
   "display_name": "R",
   "language": "R",
   "name": "ir"
  },
  "language_info": {
   "codemirror_mode": "r",
   "file_extension": ".r",
   "mimetype": "text/x-r-source",
   "name": "R",
   "pygments_lexer": "r",
   "version": "4.4.0"
  },
  "widgets": {
   "application/vnd.jupyter.widget-state+json": {
    "state": {},
    "version_major": 2,
    "version_minor": 0
   }
  }
 },
 "nbformat": 4,
 "nbformat_minor": 4
}