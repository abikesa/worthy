{
 "cells": [
  {
   "cell_type": "markdown",
   "metadata": {},
   "source": [
    "# Natural\n"
   ]
  },
  {
   "cell_type": "code",
   "execution_count": 1,
   "metadata": {
    "tags": [
     "hide-input"
    ]
   },
   "outputs": [
    {
     "ename": "ModuleNotFoundError",
     "evalue": "No module named 'wordcloud'",
     "output_type": "error",
     "traceback": [
      "\u001b[31m---------------------------------------------------------------------------\u001b[39m",
      "\u001b[31mModuleNotFoundError\u001b[39m                       Traceback (most recent call last)",
      "\u001b[36mCell\u001b[39m\u001b[36m \u001b[39m\u001b[32mIn[1]\u001b[39m\u001b[32m, line 2\u001b[39m\n\u001b[32m      1\u001b[39m \u001b[38;5;28;01mimport\u001b[39;00m\u001b[38;5;250m \u001b[39m\u001b[34;01mmatplotlib\u001b[39;00m\u001b[34;01m.\u001b[39;00m\u001b[34;01mpyplot\u001b[39;00m\u001b[38;5;250m \u001b[39m\u001b[38;5;28;01mas\u001b[39;00m\u001b[38;5;250m \u001b[39m\u001b[34;01mplt\u001b[39;00m\n\u001b[32m----> \u001b[39m\u001b[32m2\u001b[39m \u001b[38;5;28;01mfrom\u001b[39;00m\u001b[38;5;250m \u001b[39m\u001b[34;01mwordcloud\u001b[39;00m\u001b[38;5;250m \u001b[39m\u001b[38;5;28;01mimport\u001b[39;00m WordCloud\n\u001b[32m      4\u001b[39m \u001b[38;5;66;03m# Define the text with the word translations for \"Hello\"\u001b[39;00m\n\u001b[32m      5\u001b[39m text = \u001b[33m\"\"\"\u001b[39m\u001b[33mHello Hi Salut Bonjour Hallo Ola Ciao Hola Guten Tag Saluton Kamusta Merhaba Здравствуйте Elo Aloha Terve\u001b[39m\n\u001b[32m      6\u001b[39m \u001b[33m          Opa Вітаю 오늘은 Ciau 今日は سلام Здрасти 你好 سلامة\u001b[39m\u001b[33m\"\"\"\u001b[39m\n",
      "\u001b[31mModuleNotFoundError\u001b[39m: No module named 'wordcloud'"
     ]
    }
   ],
   "source": [
    "import matplotlib.pyplot as plt\n",
    "from wordcloud import WordCloud\n",
    "\n",
    "# Define the text with the word translations for \"Hello\"\n",
    "text = \"\"\"Hello Hi Salut Bonjour Hallo Ola Ciao Hola Guten Tag Saluton Kamusta Merhaba Здравствуйте Elo Aloha Terve\n",
    "          Opa Вітаю 오늘은 Ciau 今日は سلام Здрасти 你好 سلامة\"\"\"\n",
    "\n",
    "# Define the word frequencies if specific sizes are required\n",
    "word_freqs = {\n",
    "    \"Kodh'eyo\": 20,\n",
    "    \"Hi\": 8,\n",
    "    \"Salut\": 7,\n",
    "    \"Bonjour\": 7,\n",
    "    \"Hallo\": 6,\n",
    "    \"Ola\": 6,\n",
    "    \"Ciao\": 5,\n",
    "    \"Hola\": 5,\n",
    "    \"Guten Tag\": 4,\n",
    "    \"Saluton\": 4,\n",
    "    \"Kamusta\": 4,\n",
    "    \"Merhaba\": 3,\n",
    "    \"Здравствуйте\": 3,\n",
    "    \"Elo\": 3,\n",
    "    \"Aloha\": 3,\n",
    "    \"Terve\": 3,\n",
    "    \"Opa\": 2,\n",
    "    \"Вітаю\": 2,\n",
    "    \"오늘은\": 2,\n",
    "    \"Ciau\": 2,\n",
    "    \"今日は\": 2,\n",
    "    \"سلام\": 2,\n",
    "    \"Здрасти\": 4,\n",
    "    \"你好\": 2,\n",
    "    \"سلامة\": 2\n",
    "}\n",
    "\n",
    "# Create the word cloud object\n",
    "wordcloud = WordCloud(width=1000, height=800, background_color='white', relative_scaling=0.5,\n",
    "                      colormap='viridis', collocations=False).generate_from_frequencies(word_freqs)\n",
    "\n",
    "# Plot the word cloud\n",
    "plt.figure(figsize=(10, 5))\n",
    "plt.imshow(wordcloud, interpolation='bilinear')\n",
    "plt.axis('off')\n",
    "plt.show()\n"
   ]
  },
  {
   "cell_type": "markdown",
   "metadata": {},
   "source": [
    "Python has an amazing suit of libraries that R and Stata can't match. Just upload an image to GPT-4o and ask it to produce code that mimics what you're looking at. Thats how I got the above `wordcloud` script. Simple!"
   ]
  }
 ],
 "metadata": {
  "kernelspec": {
   "display_name": "Python 3",
   "language": "python",
   "name": "python3"
  },
  "language_info": {
   "codemirror_mode": {
    "name": "ipython",
    "version": 3
   },
   "file_extension": ".py",
   "mimetype": "text/x-python",
   "name": "python",
   "nbconvert_exporter": "python",
   "pygments_lexer": "ipython3",
   "version": "3.11.11"
  },
  "widgets": {
   "application/vnd.jupyter.widget-state+json": {
    "state": {},
    "version_major": 2,
    "version_minor": 0
   }
  }
 },
 "nbformat": 4,
 "nbformat_minor": 4
}